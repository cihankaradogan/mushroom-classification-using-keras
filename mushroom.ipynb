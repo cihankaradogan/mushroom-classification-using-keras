{
  "nbformat": 4,
  "nbformat_minor": 0,
  "metadata": {
    "colab": {
      "name": "mushroom.ipynb",
      "provenance": [],
      "collapsed_sections": [],
      "mount_file_id": "1coppamvnl_vtEmMLQSLuafG1mWL23vLe",
      "authorship_tag": "ABX9TyMO+KgWaE/29FhDfXDCCoPi",
      "include_colab_link": true
    },
    "kernelspec": {
      "name": "python3",
      "display_name": "Python 3"
    },
    "accelerator": "TPU"
  },
  "cells": [
    {
      "cell_type": "markdown",
      "metadata": {
        "id": "view-in-github",
        "colab_type": "text"
      },
      "source": [
        "<a href=\"https://colab.research.google.com/github/cihankaradogan/mushroom-classification-using-keras/blob/master/mushroom.ipynb\" target=\"_parent\"><img src=\"https://colab.research.google.com/assets/colab-badge.svg\" alt=\"Open In Colab\"/></a>"
      ]
    },
    {
      "cell_type": "code",
      "metadata": {
        "id": "vk49Frn6vpsQ",
        "colab_type": "code",
        "colab": {}
      },
      "source": [
        "import numpy as np\n",
        "import pandas as pd\n",
        "from keras.models import Sequential\n",
        "from keras.layers import Dense\n",
        "from keras.layers import Dropout\n",
        "from keras.optimizers import SGD\n",
        "from keras.callbacks import EarlyStopping\n",
        "from sklearn.model_selection import cross_val_score\n",
        "from keras import backend as K\n",
        "from keras.layers import BatchNormalization\n",
        "import seaborn as sns\n",
        "import matplotlib.pyplot as plt\n",
        "import math"
      ],
      "execution_count": null,
      "outputs": []
    },
    {
      "cell_type": "code",
      "metadata": {
        "id": "I_b1CSZoxfcD",
        "colab_type": "code",
        "colab": {
          "base_uri": "https://localhost:8080/",
          "height": 266
        },
        "outputId": "db8a243e-ea22-424b-cbc4-9172e930ff3e"
      },
      "source": [
        "data = pd.read_csv(\"/content/drive/My Drive/mushrooms.csv\") #Reading dataset.\n",
        "data.head()"
      ],
      "execution_count": null,
      "outputs": [
        {
          "output_type": "execute_result",
          "data": {
            "text/html": [
              "<div>\n",
              "<style scoped>\n",
              "    .dataframe tbody tr th:only-of-type {\n",
              "        vertical-align: middle;\n",
              "    }\n",
              "\n",
              "    .dataframe tbody tr th {\n",
              "        vertical-align: top;\n",
              "    }\n",
              "\n",
              "    .dataframe thead th {\n",
              "        text-align: right;\n",
              "    }\n",
              "</style>\n",
              "<table border=\"1\" class=\"dataframe\">\n",
              "  <thead>\n",
              "    <tr style=\"text-align: right;\">\n",
              "      <th></th>\n",
              "      <th>class</th>\n",
              "      <th>cap-shape</th>\n",
              "      <th>cap-surface</th>\n",
              "      <th>cap-color</th>\n",
              "      <th>bruises</th>\n",
              "      <th>odor</th>\n",
              "      <th>gill-attachment</th>\n",
              "      <th>gill-spacing</th>\n",
              "      <th>gill-size</th>\n",
              "      <th>gill-color</th>\n",
              "      <th>stalk-shape</th>\n",
              "      <th>stalk-root</th>\n",
              "      <th>stalk-surface-above-ring</th>\n",
              "      <th>stalk-surface-below-ring</th>\n",
              "      <th>stalk-color-above-ring</th>\n",
              "      <th>stalk-color-below-ring</th>\n",
              "      <th>veil-type</th>\n",
              "      <th>veil-color</th>\n",
              "      <th>ring-number</th>\n",
              "      <th>ring-type</th>\n",
              "      <th>spore-print-color</th>\n",
              "      <th>population</th>\n",
              "      <th>habitat</th>\n",
              "    </tr>\n",
              "  </thead>\n",
              "  <tbody>\n",
              "    <tr>\n",
              "      <th>0</th>\n",
              "      <td>p</td>\n",
              "      <td>x</td>\n",
              "      <td>s</td>\n",
              "      <td>n</td>\n",
              "      <td>t</td>\n",
              "      <td>p</td>\n",
              "      <td>f</td>\n",
              "      <td>c</td>\n",
              "      <td>n</td>\n",
              "      <td>k</td>\n",
              "      <td>e</td>\n",
              "      <td>e</td>\n",
              "      <td>s</td>\n",
              "      <td>s</td>\n",
              "      <td>w</td>\n",
              "      <td>w</td>\n",
              "      <td>p</td>\n",
              "      <td>w</td>\n",
              "      <td>o</td>\n",
              "      <td>p</td>\n",
              "      <td>k</td>\n",
              "      <td>s</td>\n",
              "      <td>u</td>\n",
              "    </tr>\n",
              "    <tr>\n",
              "      <th>1</th>\n",
              "      <td>e</td>\n",
              "      <td>x</td>\n",
              "      <td>s</td>\n",
              "      <td>y</td>\n",
              "      <td>t</td>\n",
              "      <td>a</td>\n",
              "      <td>f</td>\n",
              "      <td>c</td>\n",
              "      <td>b</td>\n",
              "      <td>k</td>\n",
              "      <td>e</td>\n",
              "      <td>c</td>\n",
              "      <td>s</td>\n",
              "      <td>s</td>\n",
              "      <td>w</td>\n",
              "      <td>w</td>\n",
              "      <td>p</td>\n",
              "      <td>w</td>\n",
              "      <td>o</td>\n",
              "      <td>p</td>\n",
              "      <td>n</td>\n",
              "      <td>n</td>\n",
              "      <td>g</td>\n",
              "    </tr>\n",
              "    <tr>\n",
              "      <th>2</th>\n",
              "      <td>e</td>\n",
              "      <td>b</td>\n",
              "      <td>s</td>\n",
              "      <td>w</td>\n",
              "      <td>t</td>\n",
              "      <td>l</td>\n",
              "      <td>f</td>\n",
              "      <td>c</td>\n",
              "      <td>b</td>\n",
              "      <td>n</td>\n",
              "      <td>e</td>\n",
              "      <td>c</td>\n",
              "      <td>s</td>\n",
              "      <td>s</td>\n",
              "      <td>w</td>\n",
              "      <td>w</td>\n",
              "      <td>p</td>\n",
              "      <td>w</td>\n",
              "      <td>o</td>\n",
              "      <td>p</td>\n",
              "      <td>n</td>\n",
              "      <td>n</td>\n",
              "      <td>m</td>\n",
              "    </tr>\n",
              "    <tr>\n",
              "      <th>3</th>\n",
              "      <td>p</td>\n",
              "      <td>x</td>\n",
              "      <td>y</td>\n",
              "      <td>w</td>\n",
              "      <td>t</td>\n",
              "      <td>p</td>\n",
              "      <td>f</td>\n",
              "      <td>c</td>\n",
              "      <td>n</td>\n",
              "      <td>n</td>\n",
              "      <td>e</td>\n",
              "      <td>e</td>\n",
              "      <td>s</td>\n",
              "      <td>s</td>\n",
              "      <td>w</td>\n",
              "      <td>w</td>\n",
              "      <td>p</td>\n",
              "      <td>w</td>\n",
              "      <td>o</td>\n",
              "      <td>p</td>\n",
              "      <td>k</td>\n",
              "      <td>s</td>\n",
              "      <td>u</td>\n",
              "    </tr>\n",
              "    <tr>\n",
              "      <th>4</th>\n",
              "      <td>e</td>\n",
              "      <td>x</td>\n",
              "      <td>s</td>\n",
              "      <td>g</td>\n",
              "      <td>f</td>\n",
              "      <td>n</td>\n",
              "      <td>f</td>\n",
              "      <td>w</td>\n",
              "      <td>b</td>\n",
              "      <td>k</td>\n",
              "      <td>t</td>\n",
              "      <td>e</td>\n",
              "      <td>s</td>\n",
              "      <td>s</td>\n",
              "      <td>w</td>\n",
              "      <td>w</td>\n",
              "      <td>p</td>\n",
              "      <td>w</td>\n",
              "      <td>o</td>\n",
              "      <td>e</td>\n",
              "      <td>n</td>\n",
              "      <td>a</td>\n",
              "      <td>g</td>\n",
              "    </tr>\n",
              "  </tbody>\n",
              "</table>\n",
              "</div>"
            ],
            "text/plain": [
              "  class cap-shape cap-surface  ... spore-print-color population habitat\n",
              "0     p         x           s  ...                 k          s       u\n",
              "1     e         x           s  ...                 n          n       g\n",
              "2     e         b           s  ...                 n          n       m\n",
              "3     p         x           y  ...                 k          s       u\n",
              "4     e         x           s  ...                 n          a       g\n",
              "\n",
              "[5 rows x 23 columns]"
            ]
          },
          "metadata": {
            "tags": []
          },
          "execution_count": 87
        }
      ]
    },
    {
      "cell_type": "code",
      "metadata": {
        "id": "N2I7DfIuxqJl",
        "colab_type": "code",
        "colab": {
          "base_uri": "https://localhost:8080/",
          "height": 521
        },
        "outputId": "58413a12-a22d-493f-c141-44d0a5c991e7"
      },
      "source": [
        "#FEATURES ARE STRİNG VALUES\n",
        "data.info()"
      ],
      "execution_count": null,
      "outputs": [
        {
          "output_type": "stream",
          "text": [
            "<class 'pandas.core.frame.DataFrame'>\n",
            "RangeIndex: 8124 entries, 0 to 8123\n",
            "Data columns (total 23 columns):\n",
            " #   Column                    Non-Null Count  Dtype \n",
            "---  ------                    --------------  ----- \n",
            " 0   class                     8124 non-null   object\n",
            " 1   cap-shape                 8124 non-null   object\n",
            " 2   cap-surface               8124 non-null   object\n",
            " 3   cap-color                 8124 non-null   object\n",
            " 4   bruises                   8124 non-null   object\n",
            " 5   odor                      8124 non-null   object\n",
            " 6   gill-attachment           8124 non-null   object\n",
            " 7   gill-spacing              8124 non-null   object\n",
            " 8   gill-size                 8124 non-null   object\n",
            " 9   gill-color                8124 non-null   object\n",
            " 10  stalk-shape               8124 non-null   object\n",
            " 11  stalk-root                8124 non-null   object\n",
            " 12  stalk-surface-above-ring  8124 non-null   object\n",
            " 13  stalk-surface-below-ring  8124 non-null   object\n",
            " 14  stalk-color-above-ring    8124 non-null   object\n",
            " 15  stalk-color-below-ring    8124 non-null   object\n",
            " 16  veil-type                 8124 non-null   object\n",
            " 17  veil-color                8124 non-null   object\n",
            " 18  ring-number               8124 non-null   object\n",
            " 19  ring-type                 8124 non-null   object\n",
            " 20  spore-print-color         8124 non-null   object\n",
            " 21  population                8124 non-null   object\n",
            " 22  habitat                   8124 non-null   object\n",
            "dtypes: object(23)\n",
            "memory usage: 1.4+ MB\n"
          ],
          "name": "stdout"
        }
      ]
    },
    {
      "cell_type": "code",
      "metadata": {
        "id": "VF8BkC032F37",
        "colab_type": "code",
        "colab": {
          "base_uri": "https://localhost:8080/",
          "height": 1000
        },
        "outputId": "825461e1-6c91-4cf8-9c4d-bce8060c57d2"
      },
      "source": [
        "#CHECKİNG MİSSİNG VALUES.\n",
        "for i in data.columns:\n",
        "  a = data[i].value_counts()\n",
        "  b = pd.DataFrame({\"name\":a.name,'feature':a.index, 'count':a.values})\n",
        "  print(b)"
      ],
      "execution_count": null,
      "outputs": [
        {
          "output_type": "stream",
          "text": [
            "    name feature  count\n",
            "0  class       e   4208\n",
            "1  class       p   3916\n",
            "        name feature  count\n",
            "0  cap-shape       x   3656\n",
            "1  cap-shape       f   3152\n",
            "2  cap-shape       k    828\n",
            "3  cap-shape       b    452\n",
            "4  cap-shape       s     32\n",
            "5  cap-shape       c      4\n",
            "          name feature  count\n",
            "0  cap-surface       y   3244\n",
            "1  cap-surface       s   2556\n",
            "2  cap-surface       f   2320\n",
            "3  cap-surface       g      4\n",
            "        name feature  count\n",
            "0  cap-color       n   2284\n",
            "1  cap-color       g   1840\n",
            "2  cap-color       e   1500\n",
            "3  cap-color       y   1072\n",
            "4  cap-color       w   1040\n",
            "5  cap-color       b    168\n",
            "6  cap-color       p    144\n",
            "7  cap-color       c     44\n",
            "8  cap-color       u     16\n",
            "9  cap-color       r     16\n",
            "      name feature  count\n",
            "0  bruises       f   4748\n",
            "1  bruises       t   3376\n",
            "   name feature  count\n",
            "0  odor       n   3528\n",
            "1  odor       f   2160\n",
            "2  odor       y    576\n",
            "3  odor       s    576\n",
            "4  odor       a    400\n",
            "5  odor       l    400\n",
            "6  odor       p    256\n",
            "7  odor       c    192\n",
            "8  odor       m     36\n",
            "              name feature  count\n",
            "0  gill-attachment       f   7914\n",
            "1  gill-attachment       a    210\n",
            "           name feature  count\n",
            "0  gill-spacing       c   6812\n",
            "1  gill-spacing       w   1312\n",
            "        name feature  count\n",
            "0  gill-size       b   5612\n",
            "1  gill-size       n   2512\n",
            "          name feature  count\n",
            "0   gill-color       b   1728\n",
            "1   gill-color       p   1492\n",
            "2   gill-color       w   1202\n",
            "3   gill-color       n   1048\n",
            "4   gill-color       g    752\n",
            "5   gill-color       h    732\n",
            "6   gill-color       u    492\n",
            "7   gill-color       k    408\n",
            "8   gill-color       e     96\n",
            "9   gill-color       y     86\n",
            "10  gill-color       o     64\n",
            "11  gill-color       r     24\n",
            "          name feature  count\n",
            "0  stalk-shape       t   4608\n",
            "1  stalk-shape       e   3516\n",
            "         name feature  count\n",
            "0  stalk-root       b   3776\n",
            "1  stalk-root       ?   2480\n",
            "2  stalk-root       e   1120\n",
            "3  stalk-root       c    556\n",
            "4  stalk-root       r    192\n",
            "                       name feature  count\n",
            "0  stalk-surface-above-ring       s   5176\n",
            "1  stalk-surface-above-ring       k   2372\n",
            "2  stalk-surface-above-ring       f    552\n",
            "3  stalk-surface-above-ring       y     24\n",
            "                       name feature  count\n",
            "0  stalk-surface-below-ring       s   4936\n",
            "1  stalk-surface-below-ring       k   2304\n",
            "2  stalk-surface-below-ring       f    600\n",
            "3  stalk-surface-below-ring       y    284\n",
            "                     name feature  count\n",
            "0  stalk-color-above-ring       w   4464\n",
            "1  stalk-color-above-ring       p   1872\n",
            "2  stalk-color-above-ring       g    576\n",
            "3  stalk-color-above-ring       n    448\n",
            "4  stalk-color-above-ring       b    432\n",
            "5  stalk-color-above-ring       o    192\n",
            "6  stalk-color-above-ring       e     96\n",
            "7  stalk-color-above-ring       c     36\n",
            "8  stalk-color-above-ring       y      8\n",
            "                     name feature  count\n",
            "0  stalk-color-below-ring       w   4384\n",
            "1  stalk-color-below-ring       p   1872\n",
            "2  stalk-color-below-ring       g    576\n",
            "3  stalk-color-below-ring       n    512\n",
            "4  stalk-color-below-ring       b    432\n",
            "5  stalk-color-below-ring       o    192\n",
            "6  stalk-color-below-ring       e     96\n",
            "7  stalk-color-below-ring       c     36\n",
            "8  stalk-color-below-ring       y     24\n",
            "        name feature  count\n",
            "0  veil-type       p   8124\n",
            "         name feature  count\n",
            "0  veil-color       w   7924\n",
            "1  veil-color       n     96\n",
            "2  veil-color       o     96\n",
            "3  veil-color       y      8\n",
            "          name feature  count\n",
            "0  ring-number       o   7488\n",
            "1  ring-number       t    600\n",
            "2  ring-number       n     36\n",
            "        name feature  count\n",
            "0  ring-type       p   3968\n",
            "1  ring-type       e   2776\n",
            "2  ring-type       l   1296\n",
            "3  ring-type       f     48\n",
            "4  ring-type       n     36\n",
            "                name feature  count\n",
            "0  spore-print-color       w   2388\n",
            "1  spore-print-color       n   1968\n",
            "2  spore-print-color       k   1872\n",
            "3  spore-print-color       h   1632\n",
            "4  spore-print-color       r     72\n",
            "5  spore-print-color       y     48\n",
            "6  spore-print-color       u     48\n",
            "7  spore-print-color       b     48\n",
            "8  spore-print-color       o     48\n",
            "         name feature  count\n",
            "0  population       v   4040\n",
            "1  population       y   1712\n",
            "2  population       s   1248\n",
            "3  population       n    400\n",
            "4  population       a    384\n",
            "5  population       c    340\n",
            "      name feature  count\n",
            "0  habitat       d   3148\n",
            "1  habitat       g   2148\n",
            "2  habitat       p   1144\n",
            "3  habitat       l    832\n",
            "4  habitat       u    368\n",
            "5  habitat       m    292\n",
            "6  habitat       w    192\n"
          ],
          "name": "stdout"
        }
      ]
    },
    {
      "cell_type": "code",
      "metadata": {
        "id": "t3rjhAxs5HOz",
        "colab_type": "code",
        "colab": {}
      },
      "source": [
        "#STALK-ROOT HAS 2480 MİSSİNG VALUES WE SHOULD DROP THİS COLUMN.\n",
        "data = data.drop('stalk-root', 1)"
      ],
      "execution_count": null,
      "outputs": []
    },
    {
      "cell_type": "code",
      "metadata": {
        "id": "pRdUroaT6aPU",
        "colab_type": "code",
        "colab": {}
      },
      "source": [
        "#CONVERT FEATURES TO BİNARY VALUES.\n",
        "Y = pd.get_dummies(data.iloc[:,0],  drop_first=False)\n",
        "X = pd.DataFrame()\n",
        "for i in data.iloc[:,1:].columns:\n",
        "    Q = pd.get_dummies(data[i], prefix=i, drop_first=False)\n",
        "    X = pd.concat([X, Q], axis=1)"
      ],
      "execution_count": 123,
      "outputs": []
    },
    {
      "cell_type": "code",
      "metadata": {
        "id": "FZuYzZkM8VZH",
        "colab_type": "code",
        "colab": {}
      },
      "source": [
        "#CREATİNG MODEL.\n",
        "def model():\n",
        "  model = Sequential()\n",
        "  model.add(Dense(250, input_dim=X.shape[1], kernel_initializer='uniform', activation='sigmoid'))\n",
        "  model.add(BatchNormalization())\n",
        "  model.add(Dropout(0.7))\n",
        "  model.add(Dense(300, input_dim=250, activation='relu'))\n",
        "  model.add(BatchNormalization())\n",
        "  model.add(Dropout(0.8))\n",
        "  model.add(Dense(2, activation='softmax'))\n",
        "  model.compile(loss='binary_crossentropy' , optimizer='adamax', metrics=[\"accuracy\"])\n",
        "  return model"
      ],
      "execution_count": 124,
      "outputs": []
    },
    {
      "cell_type": "code",
      "metadata": {
        "id": "9TITnGks9_0x",
        "colab_type": "code",
        "colab": {
          "base_uri": "https://localhost:8080/",
          "height": 590
        },
        "outputId": "25ddff9d-74d4-430c-9ea4-dad9b0a25afd"
      },
      "source": [
        "#TRAİNİNG.\n",
        "model = model()\n",
        "history = model.fit(X.values, Y.values, validation_split=0.50, epochs=300, batch_size=50, verbose=0)\n",
        "print(history.history.keys())\n",
        "plt.plot(history.history['accuracy'])\n",
        "plt.plot(history.history['val_accuracy'])\n",
        "plt.title('model accuracy')\n",
        "plt.ylabel('accuracy')\n",
        "plt.xlabel('epoch')\n",
        "plt.legend(['train', 'validation'], loc='upper left')\n",
        "plt.show()\n",
        "plt.plot(history.history['loss'])\n",
        "plt.plot(history.history['val_loss'])\n",
        "plt.title('model loss')\n",
        "plt.ylabel('loss')\n",
        "plt.xlabel('epoch')\n",
        "plt.legend(['train', 'validation'], loc='upper left')\n",
        "plt.show()"
      ],
      "execution_count": 125,
      "outputs": [
        {
          "output_type": "stream",
          "text": [
            "dict_keys(['val_loss', 'val_accuracy', 'loss', 'accuracy'])\n"
          ],
          "name": "stdout"
        },
        {
          "output_type": "display_data",
          "data": {
            "image/png": "[encoded data removed]",
            "text/plain": [
              "<Figure size 432x288 with 1 Axes>"
            ]
          },
          "metadata": {
            "tags": [],
            "needs_background": "light"
          }
        },
        {
          "output_type": "display_data",
          "data": {
            "image/png": "[encoded data removed]",
            "text/plain": [
              "<Figure size 432x288 with 1 Axes>"
            ]
          },
          "metadata": {
            "tags": [],
            "needs_background": "light"
          }
        }
      ]
    },
    {
      "cell_type": "code",
      "metadata": {
        "id": "AP0kIy_d-Q3u",
        "colab_type": "code",
        "colab": {
          "base_uri": "https://localhost:8080/",
          "height": 34
        },
        "outputId": "cb2e1f58-e7dd-44e2-e7f9-3bdc03a7af6a"
      },
      "source": [
        "print(\"Training accuracy: %.2f%% / Validation accuracy: %.2f%%\" % \n",
        "      (100*history.history['accuracy'][-1], 100*history.history['val_accuracy'][-1]))"
      ],
      "execution_count": 127,
      "outputs": [
        {
          "output_type": "stream",
          "text": [
            "Training accuracy: 100.00% / Validation accuracy: 96.65%\n"
          ],
          "name": "stdout"
        }
      ]
    },
    {
      "cell_type": "code",
      "metadata": {
        "id": "QMsJETgQCP4R",
        "colab_type": "code",
        "colab": {}
      },
      "source": [
        ""
      ],
      "execution_count": null,
      "outputs": []
    }
  ]
}